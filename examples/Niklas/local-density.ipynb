{
 "cells": [
  {
   "cell_type": "markdown",
   "metadata": {},
   "source": [
    "# Adding the local density and density percentile"
   ]
  },
  {
   "cell_type": "markdown",
   "metadata": {},
   "source": [
    "## Installation of plateletanalysis package"
   ]
  },
  {
   "cell_type": "code",
   "execution_count": 2,
   "metadata": {},
   "outputs": [],
   "source": [
    "import os\n",
    "from pathlib import Path\n",
    "\n",
    "# set the path to the platelet-analysis directory (which contains setup.py)\n",
    "dir = ...\n",
    "\n",
    "# change the working directory\n",
    "os.chdir(dir)\n",
    "\n",
    "# install the code using pip (-e means that the package is editable and doesn't need to be reinstalled if you change something)\n",
    "%pip install -e ."
   ]
  },
  {
   "cell_type": "markdown",
   "metadata": {},
   "source": [
    "## Adding local variables"
   ]
  },
  {
   "cell_type": "code",
   "execution_count": null,
   "metadata": {},
   "outputs": [],
   "source": [
    "import pandas as pd\n",
    "from plateletanalysis.variables.neighbours import add_neighbour_lists, local_density, local_calcium\n",
    "\n",
    "# add the path to the data frame\n",
    "data_path = ...\n",
    "df = pd.read_parquet(data_path)\n",
    "\n",
    "# add the lists of neighbours and neighbour distances\n",
    "df = add_neighbour_lists(df)"
   ]
  },
  {
   "cell_type": "code",
   "execution_count": null,
   "metadata": {},
   "outputs": [],
   "source": [
    "# add the local density for 15 um sphere\n",
    "df = local_density(df)"
   ]
  },
  {
   "cell_type": "code",
   "execution_count": null,
   "metadata": {},
   "outputs": [],
   "source": [
    "# add the local calcium\n",
    "df = local_calcium(df)"
   ]
  },
  {
   "cell_type": "markdown",
   "metadata": {},
   "source": [
    "### Local contraction - very slow to run (expect over 24 hrs)"
   ]
  },
  {
   "cell_type": "code",
   "execution_count": null,
   "metadata": {},
   "outputs": [],
   "source": [
    "from plateletanalysis.variables.neighbours import local_contraction\n",
    "\n",
    "df = local_contraction(df)"
   ]
  },
  {
   "cell_type": "markdown",
   "metadata": {},
   "source": [
    "## Add percentiles to variables"
   ]
  },
  {
   "cell_type": "code",
   "execution_count": null,
   "metadata": {},
   "outputs": [],
   "source": [
    "from plateletanalysis.variables.measure import quantile_normalise_variables\n",
    "\n",
    "# this function adds a percentile version of the variable which is named according to the original variables name \"<NAME>_pcnt\"\n",
    "df = quantile_normalise_variables(df, vars=('nb_density_15',))"
   ]
  }
 ],
 "metadata": {
  "interpreter": {
   "hash": "f44da8a66cf055a64ae57c10ed096880fe3a38ef9df4b7c6f96fc079f53224c0"
  },
  "kernelspec": {
   "display_name": "Python 3.9.7 ('plateletan')",
   "language": "python",
   "name": "python3"
  },
  "language_info": {
   "codemirror_mode": {
    "name": "ipython",
    "version": 3
   },
   "file_extension": ".py",
   "mimetype": "text/x-python",
   "name": "python",
   "nbconvert_exporter": "python",
   "pygments_lexer": "ipython3",
   "version": "3.9.7"
  },
  "orig_nbformat": 4
 },
 "nbformat": 4,
 "nbformat_minor": 2
}
